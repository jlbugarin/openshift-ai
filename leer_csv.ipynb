{
 "cells": [
  {
   "cell_type": "code",
   "execution_count": 1,
   "id": "1eaef9c3-e615-48ea-b812-526393f77d95",
   "metadata": {},
   "outputs": [],
   "source": [
    "import pandas as pd"
   ]
  },
  {
   "cell_type": "code",
   "execution_count": 2,
   "id": "79426b94-c8cd-42b9-a80c-460176dd7c80",
   "metadata": {},
   "outputs": [
    {
     "data": {
      "text/html": [
       "<div>\n",
       "<style scoped>\n",
       "    .dataframe tbody tr th:only-of-type {\n",
       "        vertical-align: middle;\n",
       "    }\n",
       "\n",
       "    .dataframe tbody tr th {\n",
       "        vertical-align: top;\n",
       "    }\n",
       "\n",
       "    .dataframe thead th {\n",
       "        text-align: right;\n",
       "    }\n",
       "</style>\n",
       "<table border=\"1\" class=\"dataframe\">\n",
       "  <thead>\n",
       "    <tr style=\"text-align: right;\">\n",
       "      <th></th>\n",
       "      <th>talla</th>\n",
       "      <th>peso</th>\n",
       "      <th>clase</th>\n",
       "    </tr>\n",
       "  </thead>\n",
       "  <tbody>\n",
       "    <tr>\n",
       "      <th>0</th>\n",
       "      <td>170</td>\n",
       "      <td>56</td>\n",
       "      <td>0</td>\n",
       "    </tr>\n",
       "    <tr>\n",
       "      <th>1</th>\n",
       "      <td>172</td>\n",
       "      <td>63</td>\n",
       "      <td>1</td>\n",
       "    </tr>\n",
       "    <tr>\n",
       "      <th>2</th>\n",
       "      <td>160</td>\n",
       "      <td>50</td>\n",
       "      <td>0</td>\n",
       "    </tr>\n",
       "    <tr>\n",
       "      <th>3</th>\n",
       "      <td>170</td>\n",
       "      <td>63</td>\n",
       "      <td>1</td>\n",
       "    </tr>\n",
       "    <tr>\n",
       "      <th>4</th>\n",
       "      <td>174</td>\n",
       "      <td>66</td>\n",
       "      <td>1</td>\n",
       "    </tr>\n",
       "  </tbody>\n",
       "</table>\n",
       "</div>"
      ],
      "text/plain": [
       "   talla  peso  clase\n",
       "0    170    56      0\n",
       "1    172    63      1\n",
       "2    160    50      0\n",
       "3    170    63      1\n",
       "4    174    66      1"
      ]
     },
     "execution_count": 2,
     "metadata": {},
     "output_type": "execute_result"
    }
   ],
   "source": [
    "import pandas as pd\n",
    "hm_raw_data = pd.read_csv(\"hm.csv\")\n",
    "hm_raw_data.head() #leer las primeras 5 lineas"
   ]
  },
  {
   "cell_type": "code",
   "execution_count": 3,
   "id": "e5710fad-ecef-4896-987c-a406f493d62d",
   "metadata": {},
   "outputs": [
    {
     "data": {
      "text/plain": [
       "(9, 3)"
      ]
     },
     "execution_count": 3,
     "metadata": {},
     "output_type": "execute_result"
    }
   ],
   "source": [
    "hm_raw_data.shape\n",
    "# total de instancias/registros y cantidad de columnas"
   ]
  },
  {
   "cell_type": "code",
   "execution_count": 4,
   "id": "c7935e52-dce3-4c32-a026-5a89cdc52a56",
   "metadata": {},
   "outputs": [
    {
     "data": {
      "text/plain": [
       "pandas.core.frame.DataFrame"
      ]
     },
     "execution_count": 4,
     "metadata": {},
     "output_type": "execute_result"
    }
   ],
   "source": [
    "type(hm_raw_data)\n",
    "# pandas.core.frame.DataFrame tipo DataFrame"
   ]
  },
  {
   "cell_type": "code",
   "execution_count": 5,
   "id": "a7c09833-f59d-4bf3-94f3-d35cd4fd1908",
   "metadata": {},
   "outputs": [
    {
     "data": {
      "text/plain": [
       "0    170\n",
       "1    172\n",
       "2    160\n",
       "3    170\n",
       "4    174\n",
       "5    158\n",
       "6    183\n",
       "7    182\n",
       "8    165\n",
       "Name: talla, dtype: int64"
      ]
     },
     "execution_count": 5,
     "metadata": {},
     "output_type": "execute_result"
    }
   ],
   "source": [
    "hm_raw_data['talla'] # toma una sola columna del marco de datos"
   ]
  },
  {
   "cell_type": "code",
   "execution_count": 6,
   "id": "4126d76b-a985-4878-a6dd-23dc44fdd83c",
   "metadata": {},
   "outputs": [
    {
     "data": {
      "text/plain": [
       "pandas.core.series.Series"
      ]
     },
     "execution_count": 6,
     "metadata": {},
     "output_type": "execute_result"
    }
   ],
   "source": [
    "type(hm_raw_data['talla'])\n",
    "# pandas.core.series.Series"
   ]
  },
  {
   "cell_type": "code",
   "execution_count": 7,
   "id": "6f37cce8-00fd-4372-8f14-c4154f8e29b0",
   "metadata": {},
   "outputs": [
    {
     "data": {
      "text/plain": [
       "count      9.000000\n",
       "mean     170.444444\n",
       "std        8.661858\n",
       "min      158.000000\n",
       "25%      165.000000\n",
       "50%      170.000000\n",
       "75%      174.000000\n",
       "max      183.000000\n",
       "Name: talla, dtype: float64"
      ]
     },
     "execution_count": 7,
     "metadata": {},
     "output_type": "execute_result"
    }
   ],
   "source": [
    "hm_raw_data['talla'].describe() #entrega detalles sobre los datos de la variable talla"
   ]
  },
  {
   "cell_type": "code",
   "execution_count": 8,
   "id": "eb52c927-ee79-49ab-b6a7-df279b7f1439",
   "metadata": {},
   "outputs": [
    {
     "data": {
      "text/plain": [
       "count     9.000000\n",
       "mean     61.888889\n",
       "std       9.346717\n",
       "min      50.000000\n",
       "25%      55.000000\n",
       "50%      63.000000\n",
       "75%      66.000000\n",
       "max      80.000000\n",
       "Name: peso, dtype: float64"
      ]
     },
     "execution_count": 8,
     "metadata": {},
     "output_type": "execute_result"
    }
   ],
   "source": [
    "hm_raw_data['peso'].describe() #entrega detalles sobre los datos de la variable peso\n"
   ]
  },
  {
   "cell_type": "code",
   "execution_count": null,
   "id": "9e24a8d1-6615-40d6-91cf-6bd2091c3289",
   "metadata": {},
   "outputs": [],
   "source": []
  }
 ],
 "metadata": {
  "kernelspec": {
   "display_name": "Python 3.11",
   "language": "python",
   "name": "python3"
  },
  "language_info": {
   "codemirror_mode": {
    "name": "ipython",
    "version": 3
   },
   "file_extension": ".py",
   "mimetype": "text/x-python",
   "name": "python",
   "nbconvert_exporter": "python",
   "pygments_lexer": "ipython3",
   "version": "3.11.9"
  }
 },
 "nbformat": 4,
 "nbformat_minor": 5
}
